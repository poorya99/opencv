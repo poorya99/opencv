{
  "nbformat": 4,
  "nbformat_minor": 0,
  "metadata": {
    "colab": {
      "name": "mnist_FC.ipynb",
      "provenance": [],
      "authorship_tag": "ABX9TyO82N2nBfPvsPh2cTiwO5gZ",
      "include_colab_link": true
    },
    "kernelspec": {
      "name": "python3",
      "display_name": "Python 3"
    },
    "language_info": {
      "name": "python"
    },
    "accelerator": "GPU"
  },
  "cells": [
    {
      "cell_type": "markdown",
      "metadata": {
        "id": "view-in-github",
        "colab_type": "text"
      },
      "source": [
        "<a href=\"https://colab.research.google.com/github/poorya99/opencv/blob/main/mnist_FC.ipynb\" target=\"_parent\"><img src=\"https://colab.research.google.com/assets/colab-badge.svg\" alt=\"Open In Colab\"/></a>"
      ]
    },
    {
      "cell_type": "code",
      "metadata": {
        "colab": {
          "base_uri": "https://localhost:8080/"
        },
        "id": "N3vyUDJxJk7h",
        "outputId": "ad961f82-815f-4edc-890f-4933c35c918c"
      },
      "source": [
        "from keras.datasets import mnist\n",
        "import matplotlib.pyplot as plt\n",
        "\n",
        "def plot_history(net_history):\n",
        "  losses = history['loss']\n",
        "  accuracies = history['accuracy']\n",
        "  val_losses = history['val_loss']\n",
        "  val_accuracy = history['val_accuracy']\n",
        "  plt.xlabel('epochs')\n",
        "  plt.ylabel('loss')\n",
        "  plt.plot(losses)\n",
        "  plt.plot(val_losses)\n",
        "  plt.legend(['loss', 'val_loss'])\n",
        "\n",
        "  plt.figure()\n",
        "\n",
        "  plt.xlabel('Epochs')\n",
        "  plt.ylabel('Accuracy')\n",
        "  plt.plot(accuracies)\n",
        "  plt.plot(val_accuracy)\n",
        "  plt.legend(['acc', 'val_acc'])\n",
        "\n",
        "\n",
        "  \n",
        "\n",
        "# Load data\n",
        "(train_images, train_labels), (test_images, test_labels) = mnist.load_data()\n",
        "\n",
        "# Data attributes\n",
        "print(\"train_images dimentions: \", train_images.ndim)\n",
        "print(\"train_images shape: \", train_images.shape)\n",
        "print(\"train_images type: \", train_images.dtype)\n",
        "\n",
        "\n",
        "X_train = train_images.reshape(60000, 784)\n",
        "X_test = test_images.reshape(10000, 784)\n",
        "\n",
        "X_train = X_train.astype('float')\n",
        "X_test = X_test.astype('float')\n",
        "\n",
        "X_train /= 255\n",
        "X_test /= 255\n",
        "\n",
        "\n",
        "from keras.utils import np_utils\n",
        "Y_train = np_utils.to_categorical(train_labels)\n",
        "Y_test = np_utils.to_categorical(test_labels)\n",
        "\n",
        "\n",
        "\n",
        "# ======================================\n",
        "\n",
        "\n",
        "from keras.models import Sequential\n",
        "from keras.layers import Dense, Dropout\n",
        "from keras.optimizers import SGD\n",
        "from keras.losses import categorical_crossentropy\n",
        "\n",
        "\n",
        "\n",
        "myModel = Sequential()\n",
        "myModel.add(Dense(500, activation='relu', input_shape = (784,)))\n",
        "myModel.add(Dropout(20))\n",
        "myModel.add(Dense(100, activation='relu'))\n",
        "myModel.add(Dropout(20))\n",
        "myModel.add(Dense(10, activation='softmax'))\n",
        "\n",
        "\n",
        "myModel.summary()\n",
        "myModel.compile(optimizer=SGD(lr=0.001),\n",
        "                loss=categorical_crossentropy, metrics=['accuracy'])\n",
        "\n",
        "# ======================================\n",
        "network_history = myModel.fit(X_train, Y_train, 128,\n",
        "                              epochs=20,validation_split=0.2)\n"
      ],
      "execution_count": 17,
      "outputs": [
        {
          "output_type": "stream",
          "text": [
            "train_images dimentions:  3\n",
            "train_images shape:  (60000, 28, 28)\n",
            "train_images type:  uint8\n",
            "Model: \"sequential_6\"\n",
            "_________________________________________________________________\n",
            "Layer (type)                 Output Shape              Param #   \n",
            "=================================================================\n",
            "dense_18 (Dense)             (None, 500)               392500    \n",
            "_________________________________________________________________\n",
            "dense_19 (Dense)             (None, 100)               50100     \n",
            "_________________________________________________________________\n",
            "dense_20 (Dense)             (None, 10)                1010      \n",
            "=================================================================\n",
            "Total params: 443,610\n",
            "Trainable params: 443,610\n",
            "Non-trainable params: 0\n",
            "_________________________________________________________________\n"
          ],
          "name": "stdout"
        },
        {
          "output_type": "stream",
          "text": [
            "/usr/local/lib/python3.7/dist-packages/tensorflow/python/keras/optimizer_v2/optimizer_v2.py:375: UserWarning: The `lr` argument is deprecated, use `learning_rate` instead.\n",
            "  \"The `lr` argument is deprecated, use `learning_rate` instead.\")\n"
          ],
          "name": "stderr"
        },
        {
          "output_type": "stream",
          "text": [
            "Epoch 1/20\n",
            "375/375 [==============================] - 2s 4ms/step - loss: 2.2671 - accuracy: 0.1441 - val_loss: 2.0518 - val_accuracy: 0.4120\n",
            "Epoch 2/20\n",
            "375/375 [==============================] - 1s 3ms/step - loss: 1.9863 - accuracy: 0.4699 - val_loss: 1.7691 - val_accuracy: 0.6468\n",
            "Epoch 3/20\n",
            "375/375 [==============================] - 1s 3ms/step - loss: 1.7100 - accuracy: 0.6611 - val_loss: 1.4906 - val_accuracy: 0.7492\n",
            "Epoch 4/20\n",
            "375/375 [==============================] - 1s 3ms/step - loss: 1.4451 - accuracy: 0.7418 - val_loss: 1.2475 - val_accuracy: 0.7944\n",
            "Epoch 5/20\n",
            "375/375 [==============================] - 1s 3ms/step - loss: 1.2191 - accuracy: 0.7861 - val_loss: 1.0548 - val_accuracy: 0.8215\n",
            "Epoch 6/20\n",
            "375/375 [==============================] - 1s 3ms/step - loss: 1.0420 - accuracy: 0.8110 - val_loss: 0.9096 - val_accuracy: 0.8373\n",
            "Epoch 7/20\n",
            "375/375 [==============================] - 1s 3ms/step - loss: 0.9146 - accuracy: 0.8190 - val_loss: 0.8008 - val_accuracy: 0.8489\n",
            "Epoch 8/20\n",
            "375/375 [==============================] - 1s 3ms/step - loss: 0.8068 - accuracy: 0.8362 - val_loss: 0.7189 - val_accuracy: 0.8583\n",
            "Epoch 9/20\n",
            "375/375 [==============================] - 1s 3ms/step - loss: 0.7331 - accuracy: 0.8462 - val_loss: 0.6561 - val_accuracy: 0.8634\n",
            "Epoch 10/20\n",
            "375/375 [==============================] - 1s 3ms/step - loss: 0.6737 - accuracy: 0.8520 - val_loss: 0.6068 - val_accuracy: 0.8712\n",
            "Epoch 11/20\n",
            "375/375 [==============================] - 1s 3ms/step - loss: 0.6245 - accuracy: 0.8614 - val_loss: 0.5672 - val_accuracy: 0.8763\n",
            "Epoch 12/20\n",
            "375/375 [==============================] - 1s 3ms/step - loss: 0.5911 - accuracy: 0.8633 - val_loss: 0.5351 - val_accuracy: 0.8796\n",
            "Epoch 13/20\n",
            "375/375 [==============================] - 1s 3ms/step - loss: 0.5610 - accuracy: 0.8678 - val_loss: 0.5085 - val_accuracy: 0.8841\n",
            "Epoch 14/20\n",
            "375/375 [==============================] - 1s 3ms/step - loss: 0.5363 - accuracy: 0.8720 - val_loss: 0.4860 - val_accuracy: 0.8864\n",
            "Epoch 15/20\n",
            "375/375 [==============================] - 1s 3ms/step - loss: 0.5090 - accuracy: 0.8761 - val_loss: 0.4669 - val_accuracy: 0.8894\n",
            "Epoch 16/20\n",
            "375/375 [==============================] - 1s 3ms/step - loss: 0.4950 - accuracy: 0.8785 - val_loss: 0.4504 - val_accuracy: 0.8912\n",
            "Epoch 17/20\n",
            "375/375 [==============================] - 1s 3ms/step - loss: 0.4794 - accuracy: 0.8800 - val_loss: 0.4363 - val_accuracy: 0.8931\n",
            "Epoch 18/20\n",
            "375/375 [==============================] - 1s 3ms/step - loss: 0.4586 - accuracy: 0.8842 - val_loss: 0.4236 - val_accuracy: 0.8945\n",
            "Epoch 19/20\n",
            "375/375 [==============================] - 1s 3ms/step - loss: 0.4468 - accuracy: 0.8867 - val_loss: 0.4125 - val_accuracy: 0.8962\n",
            "Epoch 20/20\n",
            "375/375 [==============================] - 1s 3ms/step - loss: 0.4409 - accuracy: 0.8846 - val_loss: 0.4026 - val_accuracy: 0.8979\n"
          ],
          "name": "stdout"
        }
      ]
    },
    {
      "cell_type": "code",
      "metadata": {
        "colab": {
          "base_uri": "https://localhost:8080/",
          "height": 560
        },
        "id": "ZA40oFLia24q",
        "outputId": "8948bb59-5bd3-494c-dccf-16540adb2de8"
      },
      "source": [
        "\n",
        "\n",
        "history = network_history.history\n",
        "print(history.keys())\n",
        "\n",
        "plot_history(network_history)\n",
        "\n",
        "\n"
      ],
      "execution_count": 16,
      "outputs": [
        {
          "output_type": "stream",
          "text": [
            "dict_keys(['loss', 'accuracy', 'val_loss', 'val_accuracy'])\n"
          ],
          "name": "stdout"
        },
        {
          "output_type": "display_data",
          "data": {
            "image/png": "[encoded data removed]",
            "text/plain": [
              "<Figure size 432x288 with 1 Axes>"
            ]
          },
          "metadata": {
            "tags": [],
            "needs_background": "light"
          }
        },
        {
          "output_type": "display_data",
          "data": {
            "image/png": "[encoded data removed]",
            "text/plain": [
              "<Figure size 432x288 with 1 Axes>"
            ]
          },
          "metadata": {
            "tags": [],
            "needs_background": "light"
          }
        }
      ]
    },
    {
      "cell_type": "code",
      "metadata": {
        "colab": {
          "base_uri": "https://localhost:8080/"
        },
        "id": "l9-i-_O-jnSA",
        "outputId": "fabdc2de-084c-4030-e511-bbfe05eefd62"
      },
      "source": [
        "# Evaluate\n",
        "import numpy as np\n",
        "\n",
        "test_loss, test_acc = myModel.evaluate(X_test, Y_test)\n",
        "print(test_loss, test_acc)\n",
        "\n",
        "test_labels_p = myModel.predict(X_test)\n",
        "test_labels_p = np.argmax(test_labels_p, axis=1)\n",
        "\n",
        "# Change layers config\n",
        "# myModel.layers[0].name = 'Layer_0'\n",
        "# myModel.layers[0].trainable = False\n",
        "# myModel.layers[0].get_config()"
      ],
      "execution_count": 20,
      "outputs": [
        {
          "output_type": "stream",
          "text": [
            "313/313 [==============================] - 1s 2ms/step - loss: 0.4051 - accuracy: 0.8980\n",
            "0.405109167098999 0.8980000019073486\n"
          ],
          "name": "stdout"
        }
      ]
    }
  ]
}