{
  "nbformat": 4,
  "nbformat_minor": 0,
  "metadata": {
    "colab": {
      "name": "Conv.ipynb",
      "provenance": [],
      "collapsed_sections": [],
      "authorship_tag": "ABX9TyMyFd3/V53XtWfJpAzyNrJN",
      "include_colab_link": true
    },
    "kernelspec": {
      "name": "python3",
      "display_name": "Python 3"
    },
    "language_info": {
      "name": "python"
    },
    "accelerator": "GPU"
  },
  "cells": [
    {
      "cell_type": "markdown",
      "metadata": {
        "id": "view-in-github",
        "colab_type": "text"
      },
      "source": [
        "<a href=\"https://colab.research.google.com/github/poorya99/opencv/blob/main/Conv.ipynb\" target=\"_parent\"><img src=\"https://colab.research.google.com/assets/colab-badge.svg\" alt=\"Open In Colab\"/></a>"
      ]
    },
    {
      "cell_type": "code",
      "metadata": {
        "id": "-X2hCt4i3J_P"
      },
      "source": [
        "from keras.datasets import mnist\n",
        "import matplotlib.pyplot as plt\n",
        "\n",
        "def plot_history(net_history):\n",
        "  losses = history['loss']\n",
        "  accuracies = history['accuracy']\n",
        "  val_losses = history['val_loss']\n",
        "  val_accuracy = history['val_accuracy']\n",
        "  plt.xlabel('epochs')\n",
        "  plt.ylabel('loss')\n",
        "  plt.plot(losses)\n",
        "  plt.plot(val_losses)\n",
        "  plt.legend(['loss', 'val_loss'])\n",
        "\n",
        "  plt.figure()\n",
        "\n",
        "  plt.xlabel('Epochs')\n",
        "  plt.ylabel('Accuracy')\n",
        "  plt.plot(accuracies)\n",
        "  plt.plot(val_accuracy)\n",
        "  plt.legend(['acc', 'val_acc'])\n",
        "\n",
        "\n",
        "  \n"
      ],
      "execution_count": 3,
      "outputs": []
    },
    {
      "cell_type": "code",
      "metadata": {
        "colab": {
          "base_uri": "https://localhost:8080/"
        },
        "id": "iPf43zX33SUy",
        "outputId": "e9f8c448-a3cb-4255-d793-60d874b954d9"
      },
      "source": [
        "\n",
        "# Load data\n",
        "(train_images, train_labels), (test_images, test_labels) = mnist.load_data()\n",
        "\n",
        "# Data attributes\n",
        "print(\"train_images dimentions: \", train_images.ndim)\n",
        "print(\"train_images shape: \", train_images.shape)\n",
        "print(\"train_images type: \", train_images.dtype)\n",
        "\n",
        "\n",
        "X_train = train_images.reshape(60000, 28, 28, 1)\n",
        "X_test = test_images.reshape(10000, 28, 28, 1)\n",
        "\n",
        "X_train = X_train.astype('float')\n",
        "X_test = X_test.astype('float')\n",
        "\n",
        "X_train /= 255\n",
        "X_test /= 255\n",
        "\n",
        "\n",
        "from keras.utils import np_utils\n",
        "Y_train = np_utils.to_categorical(train_labels)\n",
        "Y_test = np_utils.to_categorical(test_labels)\n",
        "\n",
        "\n",
        "\n",
        "# ======================================\n",
        "\n",
        "\n",
        "from keras.models import Model\n",
        "from keras.layers import Conv2D, MaxPool2D, Input, Flatten, Dense\n",
        "from keras.optimizers import SGD\n",
        "from keras.losses import categorical_crossentropy\n",
        "import keras\n",
        "\n",
        "myInput = Input(shape=(28, 28, 1))\n",
        "conv1 = Conv2D(16, 3, activation='relu', padding='same', strides =2)(myInput)\n",
        "# pool1 = MaxPool2D(pool_size=2)(conv1)\n",
        "conv2 = Conv2D(32, 3, activation='relu', padding='same', strides =2)(conv1)\n",
        "# pool2 = MaxPool2D(pool_size=2)(conv2)\n",
        "flat = Flatten()(conv2)\n",
        "out_layer = Dense(10, activation='softmax')(flat  )\n",
        "\n",
        "myModel = Model(myInput, out_layer)\n",
        "\n",
        "\n",
        "myModel.summary()\n",
        "myModel.compile(optimizer=keras.optimizers.Adam(),\n",
        "                loss=categorical_crossentropy, metrics=['accuracy'])\n",
        "\n",
        "# ======================================\n",
        "network_history = myModel.fit(X_train, Y_train, 128,\n",
        "                              epochs=20,validation_split=0.2)\n"
      ],
      "execution_count": 11,
      "outputs": [
        {
          "output_type": "stream",
          "text": [
            "train_images dimentions:  3\n",
            "train_images shape:  (60000, 28, 28)\n",
            "train_images type:  uint8\n",
            "Model: \"model_4\"\n",
            "_________________________________________________________________\n",
            "Layer (type)                 Output Shape              Param #   \n",
            "=================================================================\n",
            "input_7 (InputLayer)         [(None, 28, 28, 1)]       0         \n",
            "_________________________________________________________________\n",
            "conv2d_8 (Conv2D)            (None, 14, 14, 16)        160       \n",
            "_________________________________________________________________\n",
            "conv2d_9 (Conv2D)            (None, 7, 7, 32)          4640      \n",
            "_________________________________________________________________\n",
            "flatten_4 (Flatten)          (None, 1568)              0         \n",
            "_________________________________________________________________\n",
            "dense_4 (Dense)              (None, 10)                15690     \n",
            "=================================================================\n",
            "Total params: 20,490\n",
            "Trainable params: 20,490\n",
            "Non-trainable params: 0\n",
            "_________________________________________________________________\n",
            "Epoch 1/20\n",
            "375/375 [==============================] - 2s 4ms/step - loss: 0.9051 - accuracy: 0.7580 - val_loss: 0.2214 - val_accuracy: 0.9383\n",
            "Epoch 2/20\n",
            "375/375 [==============================] - 1s 4ms/step - loss: 0.1988 - accuracy: 0.9420 - val_loss: 0.1402 - val_accuracy: 0.9598\n",
            "Epoch 3/20\n",
            "375/375 [==============================] - 1s 4ms/step - loss: 0.1241 - accuracy: 0.9629 - val_loss: 0.1028 - val_accuracy: 0.9714\n",
            "Epoch 4/20\n",
            "375/375 [==============================] - 1s 4ms/step - loss: 0.0948 - accuracy: 0.9715 - val_loss: 0.0872 - val_accuracy: 0.9736\n",
            "Epoch 5/20\n",
            "375/375 [==============================] - 1s 3ms/step - loss: 0.0738 - accuracy: 0.9772 - val_loss: 0.0817 - val_accuracy: 0.9762\n",
            "Epoch 6/20\n",
            "375/375 [==============================] - 1s 3ms/step - loss: 0.0685 - accuracy: 0.9795 - val_loss: 0.0744 - val_accuracy: 0.9784\n",
            "Epoch 7/20\n",
            "375/375 [==============================] - 1s 3ms/step - loss: 0.0573 - accuracy: 0.9829 - val_loss: 0.0697 - val_accuracy: 0.9794\n",
            "Epoch 8/20\n",
            "375/375 [==============================] - 1s 3ms/step - loss: 0.0491 - accuracy: 0.9846 - val_loss: 0.0653 - val_accuracy: 0.9803\n",
            "Epoch 9/20\n",
            "375/375 [==============================] - 1s 3ms/step - loss: 0.0469 - accuracy: 0.9854 - val_loss: 0.0655 - val_accuracy: 0.9804\n",
            "Epoch 10/20\n",
            "375/375 [==============================] - 1s 4ms/step - loss: 0.0427 - accuracy: 0.9869 - val_loss: 0.0689 - val_accuracy: 0.9787\n",
            "Epoch 11/20\n",
            "375/375 [==============================] - 1s 3ms/step - loss: 0.0351 - accuracy: 0.9888 - val_loss: 0.0788 - val_accuracy: 0.9764\n",
            "Epoch 12/20\n",
            "375/375 [==============================] - 1s 3ms/step - loss: 0.0354 - accuracy: 0.9882 - val_loss: 0.0679 - val_accuracy: 0.9803\n",
            "Epoch 13/20\n",
            "375/375 [==============================] - 1s 3ms/step - loss: 0.0334 - accuracy: 0.9896 - val_loss: 0.0617 - val_accuracy: 0.9826\n",
            "Epoch 14/20\n",
            "375/375 [==============================] - 1s 3ms/step - loss: 0.0266 - accuracy: 0.9916 - val_loss: 0.0661 - val_accuracy: 0.9820\n",
            "Epoch 15/20\n",
            "375/375 [==============================] - 1s 4ms/step - loss: 0.0254 - accuracy: 0.9922 - val_loss: 0.0645 - val_accuracy: 0.9815\n",
            "Epoch 16/20\n",
            "375/375 [==============================] - 1s 3ms/step - loss: 0.0239 - accuracy: 0.9930 - val_loss: 0.0640 - val_accuracy: 0.9822\n",
            "Epoch 17/20\n",
            "375/375 [==============================] - 1s 3ms/step - loss: 0.0208 - accuracy: 0.9938 - val_loss: 0.0741 - val_accuracy: 0.9797\n",
            "Epoch 18/20\n",
            "375/375 [==============================] - 1s 3ms/step - loss: 0.0211 - accuracy: 0.9932 - val_loss: 0.0672 - val_accuracy: 0.9824\n",
            "Epoch 19/20\n",
            "375/375 [==============================] - 1s 3ms/step - loss: 0.0203 - accuracy: 0.9934 - val_loss: 0.0663 - val_accuracy: 0.9823\n",
            "Epoch 20/20\n",
            "375/375 [==============================] - 1s 4ms/step - loss: 0.0175 - accuracy: 0.9946 - val_loss: 0.0634 - val_accuracy: 0.9827\n"
          ],
          "name": "stdout"
        }
      ]
    },
    {
      "cell_type": "code",
      "metadata": {
        "colab": {
          "base_uri": "https://localhost:8080/",
          "height": 561
        },
        "id": "X2r8vblb3UCz",
        "outputId": "abf237bc-4fc3-45ca-c347-5fcdd7bc3dbe"
      },
      "source": [
        "history = network_history.history\n",
        "print(history.keys())\n",
        "\n",
        "plot_history(network_history)\n",
        "\n",
        "\n"
      ],
      "execution_count": 12,
      "outputs": [
        {
          "output_type": "stream",
          "text": [
            "dict_keys(['loss', 'accuracy', 'val_loss', 'val_accuracy'])\n"
          ],
          "name": "stdout"
        },
        {
          "output_type": "display_data",
          "data": {
            "image/png": "[encoded data removed]",
            "text/plain": [
              "<Figure size 432x288 with 1 Axes>"
            ]
          },
          "metadata": {
            "tags": [],
            "needs_background": "light"
          }
        },
        {
          "output_type": "display_data",
          "data": {
            "image/png": "[encoded data removed]",
            "text/plain": [
              "<Figure size 432x288 with 1 Axes>"
            ]
          },
          "metadata": {
            "tags": [],
            "needs_background": "light"
          }
        }
      ]
    },
    {
      "cell_type": "code",
      "metadata": {
        "id": "ugwNbfvj3Y8c"
      },
      "source": [
        "# Evaluate\n",
        "import numpy as np\n",
        "\n",
        "test_loss, test_acc = myModel.evaluate(X_test, Y_test)\n",
        "print(test_loss, test_acc)\n",
        "\n",
        "test_labels_p = myModel.predict(X_test)\n",
        "test_labels_p = np.argmax(test_labels_p, axis=1)\n",
        "\n",
        "# Change layers config\n",
        "# myModel.layers[0].name = 'Layer_0'\n",
        "# myModel.layers[0].trainable = False\n",
        "# myModel.layers[0].get_config()"
      ],
      "execution_count": null,
      "outputs": []
    }
  ]
}